{
 "cells": [
  {
   "cell_type": "code",
   "execution_count": 1,
   "id": "a450c9b6-a711-4c93-a583-255775ff73db",
   "metadata": {},
   "outputs": [],
   "source": [
    "import pandas as pd\n",
    "import requests\n",
    "import pandas_gbq\n",
    "from google.cloud import bigquery\n",
    "from typing import Any\n",
    "import os\n",
    "import logging\n",
    "from google.oauth2 import service_account\n"
   ]
  },
  {
   "cell_type": "code",
   "execution_count": 8,
   "id": "60451e06-ab3b-486a-aa94-4755ac946eea",
   "metadata": {},
   "outputs": [],
   "source": [
    "def fetch_bitcoin_price() -> pd.DataFrame:\n",
    "    url = 'https://api.coingecko.com/api/v3/coins/bitcoin/market_chart'\n",
    "    params = {\n",
    "        'vs_currency': 'usd',\n",
    "        'days': '365',\n",
    "        'interval': 'daily'\n",
    "    }\n",
    "    response = requests.get(url, params=params)\n",
    "    response.raise_for_status()\n",
    "    data = response.json()\n",
    "    \n",
    "    # Extract prices, market caps, and total volumes\n",
    "    prices = data['prices']\n",
    "    market_caps = data['market_caps']\n",
    "    total_volumes = data['total_volumes']\n",
    "    \n",
    "    # Create DataFrames for each metric\n",
    "    df_prices = pd.DataFrame(prices, columns=['timestamp', 'price'])\n",
    "    df_market_caps = pd.DataFrame(market_caps, columns=['timestamp', 'market_cap'])\n",
    "    df_volumes = pd.DataFrame(total_volumes, columns=['timestamp', 'total_volume'])\n",
    "    \n",
    "    # Merge all data on timestamp\n",
    "    df = df_prices.merge(df_market_caps, on='timestamp').merge(df_volumes, on='timestamp')\n",
    "    \n",
    "    # Convert timestamp to date\n",
    "    df['timestamp'] = pd.to_datetime(df['timestamp'], unit='ms').dt.date\n",
    "    \n",
    "    # Sort by timestamp\n",
    "    df = df.sort_values('timestamp').reset_index(drop=True)\n",
    "    \n",
    "    return df"
   ]
  },
  {
   "cell_type": "code",
   "execution_count": 9,
   "id": "852ac575-5b4c-42ed-9374-6369ddbcbb10",
   "metadata": {},
   "outputs": [],
   "source": [
    "data = fetch_bitcoin_price()"
   ]
  },
  {
   "cell_type": "code",
   "execution_count": 10,
   "id": "4f1640fd-d265-43d8-9fa3-5a850a6e36f6",
   "metadata": {},
   "outputs": [
    {
     "name": "stdout",
     "output_type": "stream",
     "text": [
      "      timestamp          price    market_cap  total_volume\n",
      "0    2024-07-28   68055.408390  1.342889e+12  3.097675e+10\n",
      "1    2024-07-29   68242.247444  1.346263e+12  1.717524e+10\n",
      "2    2024-07-30   66770.320918  1.317581e+12  4.252904e+10\n",
      "3    2024-07-31   66219.051025  1.306758e+12  2.889238e+10\n",
      "4    2024-08-01   64679.778647  1.275401e+12  3.140368e+10\n",
      "..          ...            ...           ...           ...\n",
      "361  2025-07-24  118629.055881  2.359932e+12  4.522569e+10\n",
      "362  2025-07-25  118354.435174  2.354765e+12  5.194041e+10\n",
      "363  2025-07-26  117540.808371  2.338856e+12  9.161770e+10\n",
      "364  2025-07-27  117959.542344  2.346959e+12  2.514593e+10\n",
      "365  2025-07-27  118009.325263  2.348368e+12  2.317077e+10\n",
      "\n",
      "[366 rows x 4 columns]\n"
     ]
    }
   ],
   "source": [
    "print(data)"
   ]
  },
  {
   "cell_type": "code",
   "execution_count": null,
   "id": "2b74182f-19eb-46e4-9224-5702ce6028c8",
   "metadata": {},
   "outputs": [],
   "source": []
  }
 ],
 "metadata": {
  "kernelspec": {
   "display_name": "Python 3 (ipykernel)",
   "language": "python",
   "name": "python3"
  },
  "language_info": {
   "codemirror_mode": {
    "name": "ipython",
    "version": 3
   },
   "file_extension": ".py",
   "mimetype": "text/x-python",
   "name": "python",
   "nbconvert_exporter": "python",
   "pygments_lexer": "ipython3",
   "version": "3.13.1"
  }
 },
 "nbformat": 4,
 "nbformat_minor": 5
}
