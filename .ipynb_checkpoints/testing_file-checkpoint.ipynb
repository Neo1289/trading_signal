{
 "cells": [
  {
   "cell_type": "code",
   "execution_count": 12,
   "id": "a450c9b6-a711-4c93-a583-255775ff73db",
   "metadata": {},
   "outputs": [],
   "source": [
    "import pandas as pd\n",
    "import pandas_gbq\n",
    "from google.cloud import bigquery\n",
    "from typing import Any\n",
    "from google.oauth2 import service_account\n",
    "import logging\n",
    "from datetime import datetime, timedelta\n",
    "\n",
    "credentials = service_account.Credentials.from_service_account_file(\"connection-123-892e002c2def.json\")\n",
    "destination_table = \"btc_ema\"\n",
    "\n",
    "logger = logging.getLogger(__name__)\n",
    "\n",
    "def calculate_ma(credentials,periods=[12, 26, 20, 50, 200]) -> pd.DataFrame:\n",
    "    client = bigquery.Client(credentials=credentials, project=credentials.project_id)\n",
    "\n",
    "    query = \"\"\"\n",
    "    SELECT \n",
    "        timestamp, \n",
    "        price \n",
    "    FROM \n",
    "        `connection-123.signals.bitcoin_price` \n",
    "    WHERE \n",
    "        DATE(timestamp) < DATE(CURRENT_TIMESTAMP())\n",
    "    ORDER BY \n",
    "        timestamp ASC\n",
    "    \"\"\"\n",
    "    \n",
    "    query_job = client.query(query)\n",
    "    results = query_job.result()\n",
    "    ema = results.to_dataframe()\n",
    "    bytes_processed = query_job.total_bytes_processed\n",
    "    logger.info(f\"Query processed {bytes_processed:,} bytes ({bytes_processed / 1024 / 1024:.2f} MB)\")\n",
    "\n",
    "    # Calculate EMA for each period\n",
    "    for period in periods:\n",
    "        ema_column = f'ema_{period}'\n",
    "        # Calculate EMA using the 'price' column from bitcoin_data\n",
    "        ema[ema_column] = ema['price'].ewm(span=period, adjust=False).mean()\n",
    "        # Add the EMA column to our result DataFrame\n",
    "        result[ema_column] = ema[ema_column]\n",
    "    \n",
    "\n",
    "    return result\n"
   ]
  },
  {
   "cell_type": "code",
   "execution_count": 13,
   "id": "60451e06-ab3b-486a-aa94-4755ac946eea",
   "metadata": {},
   "outputs": [
    {
     "ename": "NameError",
     "evalue": "name 'result' is not defined",
     "output_type": "error",
     "traceback": [
      "\u001b[1;31m---------------------------------------------------------------------------\u001b[0m",
      "\u001b[1;31mNameError\u001b[0m                                 Traceback (most recent call last)",
      "Cell \u001b[1;32mIn[13], line 1\u001b[0m\n\u001b[1;32m----> 1\u001b[0m data \u001b[38;5;241m=\u001b[39m \u001b[43mcalculate_ma\u001b[49m\u001b[43m(\u001b[49m\u001b[43mcredentials\u001b[49m\u001b[43m)\u001b[49m\n",
      "Cell \u001b[1;32mIn[12], line 41\u001b[0m, in \u001b[0;36mcalculate_ma\u001b[1;34m(credentials, periods)\u001b[0m\n\u001b[0;32m     39\u001b[0m     ema[ema_column] \u001b[38;5;241m=\u001b[39m ema[\u001b[38;5;124m'\u001b[39m\u001b[38;5;124mprice\u001b[39m\u001b[38;5;124m'\u001b[39m]\u001b[38;5;241m.\u001b[39mewm(span\u001b[38;5;241m=\u001b[39mperiod, adjust\u001b[38;5;241m=\u001b[39m\u001b[38;5;28;01mFalse\u001b[39;00m)\u001b[38;5;241m.\u001b[39mmean()\n\u001b[0;32m     40\u001b[0m     \u001b[38;5;66;03m# Add the EMA column to our result DataFrame\u001b[39;00m\n\u001b[1;32m---> 41\u001b[0m     \u001b[43mresult\u001b[49m[ema_column] \u001b[38;5;241m=\u001b[39m ema[ema_column]\n\u001b[0;32m     43\u001b[0m \u001b[38;5;66;03m# Format date as string for BigQuery\u001b[39;00m\n\u001b[0;32m     44\u001b[0m result[\u001b[38;5;124m'\u001b[39m\u001b[38;5;124mtimestamp\u001b[39m\u001b[38;5;124m'\u001b[39m] \u001b[38;5;241m=\u001b[39m result[\u001b[38;5;124m'\u001b[39m\u001b[38;5;124mtimestamp\u001b[39m\u001b[38;5;124m'\u001b[39m]\u001b[38;5;241m.\u001b[39mdt\u001b[38;5;241m.\u001b[39mstrftime(\u001b[38;5;124m'\u001b[39m\u001b[38;5;124m%\u001b[39m\u001b[38;5;124mY-\u001b[39m\u001b[38;5;124m%\u001b[39m\u001b[38;5;124mm-\u001b[39m\u001b[38;5;132;01m%d\u001b[39;00m\u001b[38;5;124m'\u001b[39m)\n",
      "\u001b[1;31mNameError\u001b[0m: name 'result' is not defined"
     ]
    }
   ],
   "source": [
    "data = calculate_ma(credentials)"
   ]
  },
  {
   "cell_type": "code",
   "execution_count": null,
   "id": "852ac575-5b4c-42ed-9374-6369ddbcbb10",
   "metadata": {},
   "outputs": [],
   "source": []
  },
  {
   "cell_type": "code",
   "execution_count": null,
   "id": "4f1640fd-d265-43d8-9fa3-5a850a6e36f6",
   "metadata": {},
   "outputs": [],
   "source": []
  },
  {
   "cell_type": "code",
   "execution_count": null,
   "id": "2b74182f-19eb-46e4-9224-5702ce6028c8",
   "metadata": {},
   "outputs": [],
   "source": []
  }
 ],
 "metadata": {
  "kernelspec": {
   "display_name": "Python 3 (ipykernel)",
   "language": "python",
   "name": "python3"
  },
  "language_info": {
   "codemirror_mode": {
    "name": "ipython",
    "version": 3
   },
   "file_extension": ".py",
   "mimetype": "text/x-python",
   "name": "python",
   "nbconvert_exporter": "python",
   "pygments_lexer": "ipython3",
   "version": "3.13.1"
  }
 },
 "nbformat": 4,
 "nbformat_minor": 5
}
