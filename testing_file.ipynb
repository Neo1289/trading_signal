{
 "cells": [
  {
   "cell_type": "code",
   "execution_count": 17,
   "id": "a450c9b6-a711-4c93-a583-255775ff73db",
   "metadata": {},
   "outputs": [],
   "source": [
    "import pandas as pd\n",
    "import pandas_gbq\n",
    "from google.cloud import bigquery\n",
    "from typing import Any\n",
    "from google.oauth2 import service_account\n",
    "import logging\n",
    "from datetime import datetime, timedelta\n",
    "\n",
    "credentials = service_account.Credentials.from_service_account_file(\"connection-123-892e002c2def.json\")\n",
    "destination_table = \"btc_ema\"\n",
    "\n",
    "logger = logging.getLogger(__name__)\n",
    "\n",
    "def calculate_ema(credentials,periods=[12, 26, 20, 50, 200]) -> pd.DataFrame:\n",
    "    client = bigquery.Client(credentials=credentials, project=credentials.project_id)\n",
    "\n",
    "    query = \"\"\"\n",
    "    SELECT \n",
    "        timestamp, \n",
    "        price \n",
    "    FROM \n",
    "        `connection-123.signals.bitcoin_price` \n",
    "    WHERE \n",
    "        DATE(timestamp) < DATE(CURRENT_TIMESTAMP())\n",
    "    ORDER BY \n",
    "        timestamp ASC\n",
    "    \"\"\"\n",
    "    \n",
    "    query_job = client.query(query)\n",
    "    results = query_job.result()\n",
    "    ema = results.to_dataframe()\n",
    "    bytes_processed = query_job.total_bytes_processed\n",
    "    logger.info(f\"Query processed {bytes_processed:,} bytes ({bytes_processed / 1024 / 1024:.2f} MB)\")\n",
    "\n",
    "    # Calculate EMA for each period\n",
    "    for period in periods:\n",
    "        ema_column = f'ema_{period}'\n",
    "        # Calculate EMA using the 'price' column\n",
    "        ema[ema_column] = ema['price'].ewm(span=period, adjust=False).mean()\n",
    "    \n",
    "    return ema\n"
   ]
  },
  {
   "cell_type": "code",
   "execution_count": 18,
   "id": "60451e06-ab3b-486a-aa94-4755ac946eea",
   "metadata": {},
   "outputs": [],
   "source": [
    "data = calculate_ema(credentials)"
   ]
  },
  {
   "cell_type": "code",
   "execution_count": 19,
   "id": "852ac575-5b4c-42ed-9374-6369ddbcbb10",
   "metadata": {},
   "outputs": [
    {
     "name": "stdout",
     "output_type": "stream",
     "text": [
      "      timestamp          price         ema_12         ema_26         ema_20  \\\n",
      "0    2024-08-05   58006.206587   58006.206587   58006.206587   58006.206587   \n",
      "1    2024-08-06   53956.261842   57383.138164   57706.210680   57620.497563   \n",
      "2    2024-08-07   55959.841074   57164.169381   57576.849968   57462.339802   \n",
      "3    2024-08-08   55099.951811   56846.597447   57393.376031   57237.350470   \n",
      "4    2024-08-09   61859.031599   57617.741163   57724.165332   57677.510578   \n",
      "..          ...            ...            ...            ...            ...   \n",
      "361  2025-08-01  115700.002439  117560.961975  116026.238229  116815.269357   \n",
      "362  2025-08-02  113234.605134  116895.368615  115819.450592  116474.253717   \n",
      "363  2025-08-03  112554.902322  116227.604570  115577.632202  116100.982156   \n",
      "364  2025-08-04  114199.109665  115915.528431  115475.519421  115919.851442   \n",
      "365  2025-08-04  114779.262059  115740.718220  115423.944802  115811.223882   \n",
      "\n",
      "            ema_50        ema_200  \n",
      "0     58006.206587   58006.206587  \n",
      "1     57847.385224   57965.908629  \n",
      "2     57773.363885   57945.947758  \n",
      "3     57668.524196   57917.629390  \n",
      "4     57832.857819   57956.847323  \n",
      "..             ...            ...  \n",
      "361  112846.191074  100156.629791  \n",
      "362  112861.422998  100286.758899  \n",
      "363  112849.402579  100408.829978  \n",
      "364  112902.332269  100546.046691  \n",
      "365  112975.937358  100687.670725  \n",
      "\n",
      "[366 rows x 7 columns]\n"
     ]
    }
   ],
   "source": [
    "print(data)"
   ]
  },
  {
   "cell_type": "code",
   "execution_count": null,
   "id": "4f1640fd-d265-43d8-9fa3-5a850a6e36f6",
   "metadata": {},
   "outputs": [],
   "source": []
  },
  {
   "cell_type": "code",
   "execution_count": null,
   "id": "2b74182f-19eb-46e4-9224-5702ce6028c8",
   "metadata": {},
   "outputs": [],
   "source": []
  }
 ],
 "metadata": {
  "kernelspec": {
   "display_name": "Python 3 (ipykernel)",
   "language": "python",
   "name": "python3"
  },
  "language_info": {
   "codemirror_mode": {
    "name": "ipython",
    "version": 3
   },
   "file_extension": ".py",
   "mimetype": "text/x-python",
   "name": "python",
   "nbconvert_exporter": "python",
   "pygments_lexer": "ipython3",
   "version": "3.13.1"
  }
 },
 "nbformat": 4,
 "nbformat_minor": 5
}
