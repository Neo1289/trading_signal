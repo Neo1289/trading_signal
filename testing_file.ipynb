{
 "cells": [
  {
   "metadata": {
    "ExecuteTime": {
     "end_time": "2025-09-03T12:57:47.202389Z",
     "start_time": "2025-09-03T12:57:45.463708Z"
    }
   },
   "cell_type": "code",
   "source": [
    "import requests\n",
    "from pathlib import Path\n",
    "import pandas as pd\n",
    "\n"
   ],
   "id": "b4f48f26aa54daa5",
   "outputs": [],
   "execution_count": 1
  },
  {
   "metadata": {
    "ExecuteTime": {
     "end_time": "2025-09-03T13:26:22.413362Z",
     "start_time": "2025-09-03T13:26:22.404563Z"
    }
   },
   "cell_type": "code",
   "source": [
    "\n",
    "current_dir = Path.cwd() ### jupyter does not allow __file__\n",
    "api_key_path = current_dir / \"cmc.txt\"\n",
    "\n",
    "with open(api_key_path, 'r') as f:\n",
    "    api_key = f.read().strip()\n",
    "\n",
    "def fetch_global_market_cap() -> dict:\n",
    "    url = 'https://pro-api.coinmarketcap.com/v1/global-metrics/quotes/latest'\n",
    "    headers = {\n",
    "        'X-CMC_PRO_API_KEY': api_key,\n",
    "        'Accept': 'application/json'\n",
    "    }\n",
    "    response = requests.get(url, headers=headers)\n",
    "    response.raise_for_status()\n",
    "    df = pd.json_normalize(response.json(), sep='_')\n",
    "\n",
    "    df['status_timestamp'] = pd.to_datetime(df['status_timestamp'], utc=True).dt.date\n",
    "\n",
    "    # Define columns once for better maintainability\n",
    "    columns = [\n",
    "        'status_timestamp', 'data_eth_dominance', 'data_btc_dominance',\n",
    "        'data_defi_volume_24h', 'data_defi_market_cap', 'data_stablecoin_volume_24h',\n",
    "        'data_stablecoin_market_cap', 'data_derivatives_volume_24h',\n",
    "        'data_quote_USD_total_market_cap', 'data_quote_USD_total_volume_24h',\n",
    "        'data_quote_USD_altcoin_volume_24h', 'data_quote_USD_altcoin_market_cap',\n",
    "        'data_quote_USD_defi_market_cap'\n",
    "    ]\n",
    "\n",
    "    return df[columns]\n"
   ],
   "id": "dc941bdd61bbb2cc",
   "outputs": [],
   "execution_count": 44
  },
  {
   "metadata": {
    "ExecuteTime": {
     "end_time": "2025-09-03T13:26:23.526308Z",
     "start_time": "2025-09-03T13:26:23.298110Z"
    }
   },
   "cell_type": "code",
   "source": "data = fetch_global_market_cap()",
   "id": "bf940a34e757ac00",
   "outputs": [],
   "execution_count": 45
  },
  {
   "metadata": {
    "ExecuteTime": {
     "end_time": "2025-09-03T13:26:24.087427Z",
     "start_time": "2025-09-03T13:26:24.069256Z"
    }
   },
   "cell_type": "code",
   "source": "data",
   "id": "ef7ebdc72ed0f1a2",
   "outputs": [
    {
     "data": {
      "text/plain": [
       "  status_timestamp  data_eth_dominance  data_btc_dominance  \\\n",
       "0       2025-09-03           13.766595            57.70544   \n",
       "\n",
       "   data_defi_volume_24h  data_defi_market_cap  data_stablecoin_volume_24h  \\\n",
       "0          3.811200e+10          1.180079e+11                1.603580e+11   \n",
       "\n",
       "   data_stablecoin_market_cap  data_derivatives_volume_24h  \\\n",
       "0                2.657179e+11                 1.424646e+12   \n",
       "\n",
       "   data_quote_USD_total_market_cap  data_quote_USD_total_volume_24h  \\\n",
       "0                     3.844768e+12                     1.653439e+11   \n",
       "\n",
       "   data_quote_USD_altcoin_volume_24h  data_quote_USD_altcoin_market_cap  \\\n",
       "0                       9.705608e+10                       1.626128e+12   \n",
       "\n",
       "   data_quote_USD_defi_market_cap  \n",
       "0                    1.180079e+11  "
      ],
      "text/html": [
       "<div>\n",
       "<style scoped>\n",
       "    .dataframe tbody tr th:only-of-type {\n",
       "        vertical-align: middle;\n",
       "    }\n",
       "\n",
       "    .dataframe tbody tr th {\n",
       "        vertical-align: top;\n",
       "    }\n",
       "\n",
       "    .dataframe thead th {\n",
       "        text-align: right;\n",
       "    }\n",
       "</style>\n",
       "<table border=\"1\" class=\"dataframe\">\n",
       "  <thead>\n",
       "    <tr style=\"text-align: right;\">\n",
       "      <th></th>\n",
       "      <th>status_timestamp</th>\n",
       "      <th>data_eth_dominance</th>\n",
       "      <th>data_btc_dominance</th>\n",
       "      <th>data_defi_volume_24h</th>\n",
       "      <th>data_defi_market_cap</th>\n",
       "      <th>data_stablecoin_volume_24h</th>\n",
       "      <th>data_stablecoin_market_cap</th>\n",
       "      <th>data_derivatives_volume_24h</th>\n",
       "      <th>data_quote_USD_total_market_cap</th>\n",
       "      <th>data_quote_USD_total_volume_24h</th>\n",
       "      <th>data_quote_USD_altcoin_volume_24h</th>\n",
       "      <th>data_quote_USD_altcoin_market_cap</th>\n",
       "      <th>data_quote_USD_defi_market_cap</th>\n",
       "    </tr>\n",
       "  </thead>\n",
       "  <tbody>\n",
       "    <tr>\n",
       "      <th>0</th>\n",
       "      <td>2025-09-03</td>\n",
       "      <td>13.766595</td>\n",
       "      <td>57.70544</td>\n",
       "      <td>3.811200e+10</td>\n",
       "      <td>1.180079e+11</td>\n",
       "      <td>1.603580e+11</td>\n",
       "      <td>2.657179e+11</td>\n",
       "      <td>1.424646e+12</td>\n",
       "      <td>3.844768e+12</td>\n",
       "      <td>1.653439e+11</td>\n",
       "      <td>9.705608e+10</td>\n",
       "      <td>1.626128e+12</td>\n",
       "      <td>1.180079e+11</td>\n",
       "    </tr>\n",
       "  </tbody>\n",
       "</table>\n",
       "</div>"
      ]
     },
     "execution_count": 46,
     "metadata": {},
     "output_type": "execute_result"
    }
   ],
   "execution_count": 46
  },
  {
   "metadata": {
    "ExecuteTime": {
     "end_time": "2025-09-03T13:20:47.669243Z",
     "start_time": "2025-09-03T13:20:47.666817Z"
    }
   },
   "cell_type": "code",
   "source": "",
   "id": "1b1434aeb524f86",
   "outputs": [],
   "execution_count": null
  },
  {
   "metadata": {},
   "cell_type": "code",
   "outputs": [],
   "execution_count": null,
   "source": "",
   "id": "992072f1ad494b7f"
  }
 ],
 "metadata": {
  "kernelspec": {
   "display_name": "Python 3 (ipykernel)",
   "language": "python",
   "name": "python3"
  },
  "language_info": {
   "codemirror_mode": {
    "name": "ipython",
    "version": 3
   },
   "file_extension": ".py",
   "mimetype": "text/x-python",
   "name": "python",
   "nbconvert_exporter": "python",
   "pygments_lexer": "ipython3",
   "version": "3.13.1"
  }
 },
 "nbformat": 4,
 "nbformat_minor": 5
}
