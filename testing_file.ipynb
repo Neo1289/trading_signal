{
 "cells": [
  {
   "cell_type": "code",
   "execution_count": 1,
   "id": "a450c9b6-a711-4c93-a583-255775ff73db",
   "metadata": {},
   "outputs": [],
   "source": [
    "import pandas as pd\n",
    "import requests\n",
    "import pandas_gbq\n",
    "from google.cloud import bigquery\n",
    "from typing import Any\n",
    "import os\n",
    "import logging\n",
    "from google.oauth2 import service_account\n"
   ]
  },
  {
   "cell_type": "code",
   "execution_count": 35,
   "id": "60451e06-ab3b-486a-aa94-4755ac946eea",
   "metadata": {},
   "outputs": [],
   "source": [
    "\n",
    "def fetch_bitcoin_price() -> pd.DataFrame:\n",
    "    url = 'https://api.coingecko.com/api/v3/coins/bitcoin/ohlc'\n",
    "    params = {\n",
    "        'vs_currency': 'usd',\n",
    "        'days': '365'\n",
    "    }\n",
    "    response = requests.get(url, params=params)\n",
    "    response.raise_for_status()\n",
    "    data = response.json()\n",
    "    \n",
    "    df = pd.DataFrame(data, columns=['timestamp', 'open', 'high', 'low', 'close'])\n",
    "    df['timestamp'] = pd.to_datetime(df['timestamp'], unit='ms').dt.date.reset_index(drop=True)\n",
    "    \n",
    "    df = df.sort_values('timestamp')\n",
    "    return df"
   ]
  },
  {
   "cell_type": "code",
   "execution_count": 36,
   "id": "852ac575-5b4c-42ed-9374-6369ddbcbb10",
   "metadata": {},
   "outputs": [],
   "source": [
    "data = fetch_bitcoin_price()"
   ]
  },
  {
   "cell_type": "code",
   "execution_count": 37,
   "id": "4f1640fd-d265-43d8-9fa3-5a850a6e36f6",
   "metadata": {},
   "outputs": [
    {
     "name": "stdout",
     "output_type": "stream",
     "text": [
      "     timestamp      open      high       low     close\n",
      "0   2024-07-16   60668.0   64835.0   60668.0   64835.0\n",
      "1   2024-07-20   64834.0   67386.0   62602.0   66690.0\n",
      "2   2024-07-24   66710.0   68480.0   65495.0   65942.0\n",
      "3   2024-07-28   65908.0   69371.0   63515.0   68055.0\n",
      "4   2024-08-01   67777.0   69908.0   64543.0   64680.0\n",
      "..         ...       ...       ...       ...       ...\n",
      "87  2025-06-29  106036.0  108116.0  105985.0  107332.0\n",
      "88  2025-07-03  107333.0  109608.0  105402.0  108824.0\n",
      "89  2025-07-07  108876.0  110386.0  107386.0  109215.0\n",
      "90  2025-07-11  109222.0  116462.0  107591.0  115880.0\n",
      "91  2025-07-15  115961.0  122838.0  115548.0  119834.0\n",
      "\n",
      "[92 rows x 5 columns]\n"
     ]
    }
   ],
   "source": [
    "print(data)"
   ]
  },
  {
   "cell_type": "code",
   "execution_count": null,
   "id": "2b74182f-19eb-46e4-9224-5702ce6028c8",
   "metadata": {},
   "outputs": [],
   "source": []
  }
 ],
 "metadata": {
  "kernelspec": {
   "display_name": "Python 3 (ipykernel)",
   "language": "python",
   "name": "python3"
  },
  "language_info": {
   "codemirror_mode": {
    "name": "ipython",
    "version": 3
   },
   "file_extension": ".py",
   "mimetype": "text/x-python",
   "name": "python",
   "nbconvert_exporter": "python",
   "pygments_lexer": "ipython3",
   "version": "3.13.1"
  }
 },
 "nbformat": 4,
 "nbformat_minor": 5
}
