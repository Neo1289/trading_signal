{
 "cells": [
  {
   "metadata": {
    "ExecuteTime": {
     "end_time": "2025-09-16T14:49:11.375240Z",
     "start_time": "2025-09-16T14:49:11.370904Z"
    }
   },
   "cell_type": "code",
   "source": [
    "import numpy as np\n",
    "import pandas as pd\n",
    "from google.cloud import bigquery\n",
    "from google.oauth2 import service_account\n",
    "import statsmodels.api as sm\n",
    "import requests\n",
    "from datetime import datetime"
   ],
   "id": "f2eb35a85ba5527b",
   "outputs": [],
   "execution_count": 11
  },
  {
   "metadata": {
    "ExecuteTime": {
     "end_time": "2025-09-16T14:49:11.823210Z",
     "start_time": "2025-09-16T14:49:11.819999Z"
    }
   },
   "cell_type": "code",
   "source": [
    "######## test the api endpoint\n",
    "#########get the MVRV data\n",
    "######### build the script\n",
    "######### incorporate in the streamilit app"
   ],
   "id": "a8ecdc6ac17377bc",
   "outputs": [],
   "execution_count": 12
  },
  {
   "metadata": {
    "ExecuteTime": {
     "end_time": "2025-09-16T14:54:14.092126Z",
     "start_time": "2025-09-16T14:54:14.086476Z"
    }
   },
   "cell_type": "code",
   "source": [
    "def fetch_mvrv() -> pd.DataFrame:\n",
    "    url = \"https://community-api.coinmetrics.io/v4/timeseries/asset-metrics\"\n",
    "\n",
    "    params = {\n",
    "    'assets': 'btc',\n",
    "    'metrics': 'CapMVRVCur',\n",
    "    'start_time': '2020-01-01',\n",
    "    'end_time': datetime.now().strftime('%Y-%m-%d'),\n",
    "    'frequency': '1d'\n",
    "}\n",
    "    response = requests.get(url, params=params)\n",
    "    response.raise_for_status()\n",
    "    data = response.json()\n",
    "    df = pd.json_normalize(data, sep='_')\n",
    "\n",
    "    return data\n"
   ],
   "id": "614938ee04e85973",
   "outputs": [],
   "execution_count": 31
  },
  {
   "metadata": {
    "ExecuteTime": {
     "end_time": "2025-09-16T14:54:14.606404Z",
     "start_time": "2025-09-16T14:54:14.436359Z"
    }
   },
   "cell_type": "code",
   "source": "test = fetch_mvrv()",
   "id": "17b74d72d361bcac",
   "outputs": [],
   "execution_count": 32
  },
  {
   "metadata": {
    "ExecuteTime": {
     "end_time": "2025-09-16T15:03:19.318445Z",
     "start_time": "2025-09-16T15:03:19.273215Z"
    }
   },
   "cell_type": "code",
   "source": [
    "df = pd.DataFrame(columns=['time', 'mvrv'])\n",
    "\n",
    "# Add rows one by one\n",
    "for point in test['data']:\n",
    "    new_row = pd.DataFrame({\n",
    "        'time': [point['time']],\n",
    "        'mvrv': [float(point['CapMVRVCur'])]\n",
    "    })\n",
    "    df = pd.concat([df, new_row], ignore_index=True)"
   ],
   "id": "5770af575f92c663",
   "outputs": [
    {
     "name": "stderr",
     "output_type": "stream",
     "text": [
      "C:\\Users\\nrade\\AppData\\Local\\Temp\\ipykernel_15524\\362499577.py:9: FutureWarning: The behavior of DataFrame concatenation with empty or all-NA entries is deprecated. In a future version, this will no longer exclude empty or all-NA columns when determining the result dtypes. To retain the old behavior, exclude the relevant entries before the concat operation.\n",
      "  df = pd.concat([df, new_row], ignore_index=True)\n"
     ]
    }
   ],
   "execution_count": 61
  },
  {
   "metadata": {},
   "cell_type": "code",
   "outputs": [],
   "execution_count": null,
   "source": "",
   "id": "e5ffd122db8534a7"
  }
 ],
 "metadata": {
  "kernelspec": {
   "display_name": "Python 3 (ipykernel)",
   "language": "python",
   "name": "python3"
  },
  "language_info": {
   "codemirror_mode": {
    "name": "ipython",
    "version": 3
   },
   "file_extension": ".py",
   "mimetype": "text/x-python",
   "name": "python",
   "nbconvert_exporter": "python",
   "pygments_lexer": "ipython3",
   "version": "3.13.1"
  }
 },
 "nbformat": 4,
 "nbformat_minor": 5
}
