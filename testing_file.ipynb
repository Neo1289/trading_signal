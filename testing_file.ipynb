{
 "cells": [
  {
   "metadata": {
    "ExecuteTime": {
     "end_time": "2025-09-10T14:39:51.731042Z",
     "start_time": "2025-09-10T14:39:48.590049Z"
    }
   },
   "cell_type": "code",
   "source": [
    "import numpy as np\n",
    "import pandas as pd\n",
    "from google.cloud import bigquery\n",
    "from google.oauth2 import service_account\n",
    "import statsmodels.api as sm\n",
    "from sklearn.model_selection import train_test_split\n",
    "from sklearn.metrics import mean_squared_error, r2_score"
   ],
   "id": "f2eb35a85ba5527b",
   "outputs": [],
   "execution_count": 1
  },
  {
   "metadata": {
    "ExecuteTime": {
     "end_time": "2025-09-10T14:39:51.753858Z",
     "start_time": "2025-09-10T14:39:51.748097Z"
    }
   },
   "cell_type": "code",
   "source": [
    "def fetch_all_indicators(credentials_path = \"connection-123-892e002c2def.json\") -> pd.DataFrame:\n",
    "        \"\"\"Fetch and combine all technical indicators from BigQuery\"\"\"\n",
    "        credentials = service_account.Credentials.from_service_account_file(credentials_path)\n",
    "        client = bigquery.Client(credentials=credentials, project=\"connection-123\")\n",
    "\n",
    "        # Main query joining all indicator tables\n",
    "        query = \"\"\"\n",
    "        WITH base_data AS (\n",
    "            SELECT\n",
    "                p.timestamp as date_,\n",
    "                p.price,\n",
    "                p.market_cap,\n",
    "                p.total_volume,\n",
    "                ma.sma_10,\n",
    "                ma.sma_20,\n",
    "                ma.sma_50,\n",
    "                ema.ema_9,\n",
    "                ema.ema_12,\n",
    "                ema.ema_26,\n",
    "                ema.ema_20,\n",
    "                ema.ema_50\n",
    "            FROM `connection-123.signals.bitcoin_price` p\n",
    "            LEFT JOIN `connection-123.signals.btc_moving_averages` ma ON p.timestamp = ma.date_\n",
    "            LEFT JOIN `connection-123.signals.btc_ema` ema ON p.timestamp = ema.timestamp\n",
    "            LEFT JOIN `connection-123.signals.btc_rsi` rsi ON p.timestamp = rsi.timestamp\n",
    "            LEFT JOIN `connection-123.signals.btc_macd` macd ON p.timestamp = macd.timestamp\n",
    "            LEFT JOIN `connection-123.signals.btc_bollinger_bands` bb ON p.timestamp = bb.timestamp\n",
    "            WHERE p.timestamp BETWEEN DATE_SUB(CURRENT_DATE(), INTERVAL 180 DAY) AND DATE_SUB(CURRENT_DATE(), INTERVAL 1 DAY)\n",
    "            ORDER BY p.timestamp\n",
    "        )\n",
    "        SELECT *\n",
    "        FROM base_data\n",
    "        WHERE sma_10 IS NOT NULL  -- Ensure we have indicator data\n",
    "        \"\"\"\n",
    "\n",
    "        query_job = client.query(query)\n",
    "        df = query_job.result().to_dataframe()\n",
    "\n",
    "        return df"
   ],
   "id": "63ba29c28225b05c",
   "outputs": [],
   "execution_count": 2
  },
  {
   "metadata": {
    "ExecuteTime": {
     "end_time": "2025-09-10T14:39:54.677501Z",
     "start_time": "2025-09-10T14:39:51.763132Z"
    }
   },
   "cell_type": "code",
   "source": "data = fetch_all_indicators()",
   "id": "a51dc7b4843543a4",
   "outputs": [],
   "execution_count": 3
  },
  {
   "metadata": {
    "ExecuteTime": {
     "end_time": "2025-09-10T14:39:54.733360Z",
     "start_time": "2025-09-10T14:39:54.727816Z"
    }
   },
   "cell_type": "code",
   "source": [
    "X = data.drop(['price','date_'], axis=1)\n",
    "y = data['price']"
   ],
   "id": "e9a1cebfaf42663e",
   "outputs": [],
   "execution_count": 5
  },
  {
   "metadata": {
    "ExecuteTime": {
     "end_time": "2025-09-10T14:39:54.757493Z",
     "start_time": "2025-09-10T14:39:54.749194Z"
    }
   },
   "cell_type": "code",
   "source": "X_train, X_test, Y_train, Y_test = train_test_split(X, y, test_size=0.2, random_state=42)",
   "id": "a42dccda6503f6a5",
   "outputs": [],
   "execution_count": 6
  },
  {
   "metadata": {
    "ExecuteTime": {
     "end_time": "2025-09-10T14:39:54.775981Z",
     "start_time": "2025-09-10T14:39:54.766581Z"
    }
   },
   "cell_type": "code",
   "source": [
    "X_train = sm.add_constant(X_train)\n",
    "X_test = sm.add_constant(X_test)"
   ],
   "id": "cd3efa1400bea390",
   "outputs": [],
   "execution_count": 7
  },
  {
   "metadata": {
    "ExecuteTime": {
     "end_time": "2025-09-10T14:39:54.796568Z",
     "start_time": "2025-09-10T14:39:54.784638Z"
    }
   },
   "cell_type": "code",
   "source": [
    "model = sm.OLS(Y_train, X_train)\n",
    "results = model.fit()"
   ],
   "id": "8c93ac9526f69f42",
   "outputs": [],
   "execution_count": 8
  },
  {
   "metadata": {
    "ExecuteTime": {
     "end_time": "2025-09-10T14:44:26.109893Z",
     "start_time": "2025-09-10T14:44:26.087170Z"
    }
   },
   "cell_type": "code",
   "source": [
    "def predict_next_days(results, days=5):\n",
    "    \"\"\"Predict Bitcoin price for next few days using the trained model\"\"\"\n",
    "\n",
    "    # Get the most recent indicator values from your data\n",
    "    latest_indicators = data.iloc[-1][['market_cap', 'total_volume', 'sma_10', 'sma_20', 'sma_50',\n",
    "                                      'ema_9', 'ema_12', 'ema_26', 'ema_20', 'ema_50']].values\n",
    "\n",
    "    predictions = []\n",
    "    current_indicators = latest_indicators.copy()\n",
    "\n",
    "    for day in range(1, days + 1):\n",
    "        # Add constant for prediction\n",
    "        X_pred = np.insert(current_indicators, 0, 1)  # Add constant at beginning\n",
    "\n",
    "        # Make prediction\n",
    "        predicted_price = results.predict(X_pred)[0]\n",
    "        predictions.append({\n",
    "            'day': day,\n",
    "            'predicted_price': predicted_price,\n",
    "            'date': pd.Timestamp.now() + pd.Timedelta(days=day)\n",
    "        })\n",
    "\n",
    "        # Simple assumption: indicators change gradually (you can improve this)\n",
    "        # For now, assume moving averages slowly converge toward predicted price\n",
    "        current_indicators[2:5] = current_indicators[2:5] * 0.95 + predicted_price * 0.05  # SMAs\n",
    "        current_indicators[5:] = current_indicators[5:] * 0.9 + predicted_price * 0.1     # EMAs\n",
    "\n",
    "    return pd.DataFrame(predictions)\n",
    "\n",
    "# Generate predictions\n",
    "future_predictions = predict_next_days(results, days=5)\n",
    "print(\"Next 5 Days Bitcoin Price Predictions:\")\n",
    "print(future_predictions[['date', 'predicted_price']].round(2))"
   ],
   "id": "e9d5a17935b7b427",
   "outputs": [
    {
     "name": "stdout",
     "output_type": "stream",
     "text": [
      "Next 5 Days Bitcoin Price Predictions:\n",
      "                        date  predicted_price\n",
      "0 2025-09-11 16:44:26.098107        112248.17\n",
      "1 2025-09-12 16:44:26.099939        112238.37\n",
      "2 2025-09-13 16:44:26.100053        112229.84\n",
      "3 2025-09-14 16:44:26.100148        112222.45\n",
      "4 2025-09-15 16:44:26.100260        112216.06\n"
     ]
    }
   ],
   "execution_count": 11
  },
  {
   "metadata": {},
   "cell_type": "code",
   "outputs": [],
   "execution_count": null,
   "source": "",
   "id": "a8ecdc6ac17377bc"
  }
 ],
 "metadata": {
  "kernelspec": {
   "display_name": "Python 3 (ipykernel)",
   "language": "python",
   "name": "python3"
  },
  "language_info": {
   "codemirror_mode": {
    "name": "ipython",
    "version": 3
   },
   "file_extension": ".py",
   "mimetype": "text/x-python",
   "name": "python",
   "nbconvert_exporter": "python",
   "pygments_lexer": "ipython3",
   "version": "3.13.1"
  }
 },
 "nbformat": 4,
 "nbformat_minor": 5
}
