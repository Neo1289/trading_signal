{
 "cells": [
  {
   "metadata": {
    "ExecuteTime": {
     "end_time": "2025-08-10T14:22:59.763445Z",
     "start_time": "2025-08-10T14:22:58.340344Z"
    }
   },
   "cell_type": "code",
   "source": [
    "import pandas as pd\n",
    "from google.cloud import bigquery\n",
    "\n",
    "from google.oauth2 import service_account\n"
   ],
   "id": "b4f48f26aa54daa5",
   "outputs": [],
   "execution_count": 4
  },
  {
   "metadata": {
    "ExecuteTime": {
     "end_time": "2025-08-10T14:22:59.782351Z",
     "start_time": "2025-08-10T14:22:59.773732Z"
    }
   },
   "cell_type": "code",
   "source": "credentials = service_account.Credentials.from_service_account_file(\"connection-123-892e002c2def.json\")",
   "id": "a30361c8090461b6",
   "outputs": [],
   "execution_count": 5
  },
  {
   "metadata": {
    "ExecuteTime": {
     "end_time": "2025-08-10T14:23:00.929744Z",
     "start_time": "2025-08-10T14:23:00.924969Z"
    }
   },
   "cell_type": "code",
   "source": [
    "\n",
    "\n",
    "def calculate_macd(credentials):\n",
    "    client = bigquery.Client(credentials=credentials, project=credentials.project_id)\n",
    "\n",
    "    query = \"\"\"\n",
    "      SELECT\n",
    "      timestamp,\n",
    "      ema_9,\n",
    "      ema_12,\n",
    "      ema_26\n",
    "    FROM connection-123.signals.btc_ema\n",
    "    ORDER BY timestamp\n",
    "    \"\"\"\n",
    "    query_job = client.query(query)\n",
    "    results = query_job.result()\n",
    "    df = results.to_dataframe()\n",
    "\n",
    "    df['macd_line'] = df['ema_12'] - df['ema_26']\n",
    "    # Calculate signal line (9-period EMA of MACD line)\n",
    "    df['signal_line'] = df['macd_line'].ewm(span=9, adjust=False).mean()\n",
    "    # Calculate histogram\n",
    "    df['histogram'] = df['macd_line'] - df['signal_line']\n",
    "    # Return only the MACD components\n",
    "    macd_result = df[['timestamp', 'macd_line', 'signal_line', 'histogram']].copy()\n",
    "\n",
    "    return macd_result\n"
   ],
   "id": "9ba81e7aa23f927d",
   "outputs": [],
   "execution_count": 6
  },
  {
   "metadata": {
    "ExecuteTime": {
     "end_time": "2025-08-10T14:23:04.234853Z",
     "start_time": "2025-08-10T14:23:01.625972Z"
    }
   },
   "cell_type": "code",
   "source": "data = calculate_macd(credentials)",
   "id": "93fab9cd87d82477",
   "outputs": [],
   "execution_count": 7
  },
  {
   "metadata": {
    "ExecuteTime": {
     "end_time": "2025-08-10T14:23:05.124889Z",
     "start_time": "2025-08-10T14:23:05.105259Z"
    }
   },
   "cell_type": "code",
   "source": "print(data)",
   "id": "29ebe9c0a6d15ee9",
   "outputs": [
    {
     "name": "stdout",
     "output_type": "stream",
     "text": [
      "      timestamp   macd_line  signal_line   histogram\n",
      "0    2024-08-11    0.000000     0.000000    0.000000\n",
      "1    2024-08-12 -166.203063   -33.240613 -132.962451\n",
      "2    2024-08-13 -250.982308   -76.788952 -174.193356\n",
      "3    2024-08-14 -214.737850  -104.378732 -110.359119\n",
      "4    2024-08-15 -332.431995  -149.989384 -182.442611\n",
      "..          ...         ...          ...         ...\n",
      "359  2025-08-05  345.445423  1220.450378 -875.004955\n",
      "360  2025-08-06  186.824156  1013.725134 -826.900978\n",
      "361  2025-08-07  131.714816   837.323070 -705.608254\n",
      "362  2025-08-08  281.790819   726.216620 -444.425801\n",
      "363  2025-08-09  334.328474   647.838991 -313.510516\n",
      "\n",
      "[364 rows x 4 columns]\n"
     ]
    }
   ],
   "execution_count": 8
  },
  {
   "metadata": {},
   "cell_type": "code",
   "outputs": [],
   "execution_count": null,
   "source": "",
   "id": "5ba5ec543538e527"
  }
 ],
 "metadata": {
  "kernelspec": {
   "display_name": "Python 3 (ipykernel)",
   "language": "python",
   "name": "python3"
  },
  "language_info": {
   "codemirror_mode": {
    "name": "ipython",
    "version": 3
   },
   "file_extension": ".py",
   "mimetype": "text/x-python",
   "name": "python",
   "nbconvert_exporter": "python",
   "pygments_lexer": "ipython3",
   "version": "3.13.1"
  }
 },
 "nbformat": 4,
 "nbformat_minor": 5
}
