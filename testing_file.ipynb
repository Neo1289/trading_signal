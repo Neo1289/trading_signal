{
 "cells": [
  {
   "metadata": {
    "ExecuteTime": {
     "end_time": "2025-09-09T15:01:54.735650Z",
     "start_time": "2025-09-09T15:01:51.108467Z"
    }
   },
   "cell_type": "code",
   "source": [
    "import numpy as np\n",
    "import pandas as pd\n",
    "from google.cloud import bigquery\n",
    "from google.oauth2 import service_account\n",
    "import statsmodels.api as sm\n",
    "from sklearn.model_selection import train_test_split\n",
    "from sklearn.metrics import mean_squared_error, r2_score"
   ],
   "id": "f2eb35a85ba5527b",
   "outputs": [],
   "execution_count": 24
  },
  {
   "metadata": {
    "ExecuteTime": {
     "end_time": "2025-09-09T14:54:28.074356Z",
     "start_time": "2025-09-09T14:54:28.068010Z"
    }
   },
   "cell_type": "code",
   "source": [
    "def fetch_all_indicators(credentials_path = \"connection-123-892e002c2def.json\") -> pd.DataFrame:\n",
    "        \"\"\"Fetch and combine all technical indicators from BigQuery\"\"\"\n",
    "        credentials = service_account.Credentials.from_service_account_file(credentials_path)\n",
    "        client = bigquery.Client(credentials=credentials, project=\"connection-123\")\n",
    "\n",
    "        # Main query joining all indicator tables\n",
    "        query = \"\"\"\n",
    "        WITH base_data AS (\n",
    "            SELECT\n",
    "                p.timestamp as date_,\n",
    "                p.price,\n",
    "                p.market_cap,\n",
    "                p.total_volume,\n",
    "                ma.sma_10,\n",
    "                ma.sma_20,\n",
    "                ma.sma_50,\n",
    "                ema.ema_9,\n",
    "                ema.ema_12,\n",
    "                ema.ema_26,\n",
    "                ema.ema_20,\n",
    "                ema.ema_50\n",
    "            FROM `connection-123.signals.bitcoin_price` p\n",
    "            LEFT JOIN `connection-123.signals.btc_moving_averages` ma ON p.timestamp = ma.date_\n",
    "            LEFT JOIN `connection-123.signals.btc_ema` ema ON p.timestamp = ema.timestamp\n",
    "            LEFT JOIN `connection-123.signals.btc_rsi` rsi ON p.timestamp = rsi.timestamp\n",
    "            LEFT JOIN `connection-123.signals.btc_macd` macd ON p.timestamp = macd.timestamp\n",
    "            LEFT JOIN `connection-123.signals.btc_bollinger_bands` bb ON p.timestamp = bb.timestamp\n",
    "            WHERE p.timestamp BETWEEN DATE_SUB(CURRENT_DATE(), INTERVAL 180 DAY) AND DATE_SUB(CURRENT_DATE(), INTERVAL 1 DAY)\n",
    "            ORDER BY p.timestamp\n",
    "        )\n",
    "        SELECT *\n",
    "        FROM base_data\n",
    "        WHERE sma_10 IS NOT NULL  -- Ensure we have indicator data\n",
    "        \"\"\"\n",
    "\n",
    "        query_job = client.query(query)\n",
    "        df = query_job.result().to_dataframe()\n",
    "\n",
    "        return df"
   ],
   "id": "63ba29c28225b05c",
   "outputs": [],
   "execution_count": 11
  },
  {
   "metadata": {
    "ExecuteTime": {
     "end_time": "2025-09-09T14:54:31.452164Z",
     "start_time": "2025-09-09T14:54:28.519424Z"
    }
   },
   "cell_type": "code",
   "source": "data = fetch_all_indicators()",
   "id": "a51dc7b4843543a4",
   "outputs": [],
   "execution_count": 12
  },
  {
   "metadata": {
    "ExecuteTime": {
     "end_time": "2025-09-09T14:57:27.252147Z",
     "start_time": "2025-09-09T14:57:27.232217Z"
    }
   },
   "cell_type": "code",
   "source": "data.info()",
   "id": "2363393dafd864a6",
   "outputs": [
    {
     "name": "stdout",
     "output_type": "stream",
     "text": [
      "<class 'pandas.core.frame.DataFrame'>\n",
      "RangeIndex: 180 entries, 0 to 179\n",
      "Data columns (total 12 columns):\n",
      " #   Column        Non-Null Count  Dtype  \n",
      "---  ------        --------------  -----  \n",
      " 0   date_         180 non-null    dbdate \n",
      " 1   price         180 non-null    float64\n",
      " 2   market_cap    180 non-null    float64\n",
      " 3   total_volume  180 non-null    float64\n",
      " 4   sma_10        180 non-null    float64\n",
      " 5   sma_20        180 non-null    float64\n",
      " 6   sma_50        180 non-null    float64\n",
      " 7   ema_9         180 non-null    float64\n",
      " 8   ema_12        180 non-null    float64\n",
      " 9   ema_26        180 non-null    float64\n",
      " 10  ema_20        180 non-null    float64\n",
      " 11  ema_50        180 non-null    float64\n",
      "dtypes: dbdate(1), float64(11)\n",
      "memory usage: 17.0 KB\n"
     ]
    }
   ],
   "execution_count": 14
  },
  {
   "metadata": {
    "ExecuteTime": {
     "end_time": "2025-09-09T15:00:32.092084Z",
     "start_time": "2025-09-09T15:00:32.087555Z"
    }
   },
   "cell_type": "code",
   "source": [
    "X = data.drop(['price','date_'], axis=1)\n",
    "y = data['price']"
   ],
   "id": "e9a1cebfaf42663e",
   "outputs": [],
   "execution_count": 20
  },
  {
   "metadata": {
    "ExecuteTime": {
     "end_time": "2025-09-09T15:02:01.655788Z",
     "start_time": "2025-09-09T15:02:01.644519Z"
    }
   },
   "cell_type": "code",
   "source": "X_train, X_test, Y_train, Y_test = train_test_split(X, y, test_size=0.2, random_state=42)",
   "id": "a42dccda6503f6a5",
   "outputs": [],
   "execution_count": 25
  },
  {
   "metadata": {
    "ExecuteTime": {
     "end_time": "2025-09-09T15:02:16.092184Z",
     "start_time": "2025-09-09T15:02:16.081478Z"
    }
   },
   "cell_type": "code",
   "source": [
    "X_train = sm.add_constant(X_train)\n",
    "X_test = sm.add_constant(X_test)"
   ],
   "id": "cd3efa1400bea390",
   "outputs": [],
   "execution_count": 26
  },
  {
   "metadata": {
    "ExecuteTime": {
     "end_time": "2025-09-09T15:02:25.244862Z",
     "start_time": "2025-09-09T15:02:25.227665Z"
    }
   },
   "cell_type": "code",
   "source": [
    "model = sm.OLS(Y_train, X_train)\n",
    "results = model.fit()"
   ],
   "id": "8c93ac9526f69f42",
   "outputs": [],
   "execution_count": 27
  },
  {
   "metadata": {
    "ExecuteTime": {
     "end_time": "2025-09-09T15:02:38.849369Z",
     "start_time": "2025-09-09T15:02:38.825621Z"
    }
   },
   "cell_type": "code",
   "source": "print(results.summary())\n",
   "id": "84054e19fdaa89c7",
   "outputs": [
    {
     "name": "stdout",
     "output_type": "stream",
     "text": [
      "                            OLS Regression Results                            \n",
      "==============================================================================\n",
      "Dep. Variable:                  price   R-squared:                       1.000\n",
      "Model:                            OLS   Adj. R-squared:                  1.000\n",
      "Method:                 Least Squares   F-statistic:                 6.398e+05\n",
      "Date:                Tue, 09 Sep 2025   Prob (F-statistic):          4.06e-306\n",
      "Time:                        17:02:38   Log-Likelihood:                -783.81\n",
      "No. Observations:                 144   AIC:                             1590.\n",
      "Df Residuals:                     133   BIC:                             1622.\n",
      "Df Model:                          10                                         \n",
      "Covariance Type:            nonrobust                                         \n",
      "================================================================================\n",
      "                   coef    std err          t      P>|t|      [0.025      0.975]\n",
      "--------------------------------------------------------------------------------\n",
      "const         1576.4154    117.120     13.460      0.000    1344.757    1808.073\n",
      "market_cap    5.066e-08   2.36e-10    214.436      0.000    5.02e-08    5.11e-08\n",
      "total_volume -1.291e-09   3.48e-10     -3.713      0.000   -1.98e-09   -6.03e-10\n",
      "sma_10           0.0060      0.019      0.319      0.750      -0.031       0.043\n",
      "sma_20           0.0147      0.018      0.797      0.427      -0.022       0.051\n",
      "sma_50          -0.0333      0.017     -1.959      0.052      -0.067       0.000\n",
      "ema_9           -0.3730      0.213     -1.751      0.082      -0.794       0.048\n",
      "ema_12           0.9684      0.443      2.186      0.031       0.092       1.845\n",
      "ema_26           1.4759      0.470      3.139      0.002       0.546       2.406\n",
      "ema_20          -1.9032      0.640     -2.974      0.003      -3.169      -0.637\n",
      "ema_50          -0.1782      0.044     -4.048      0.000      -0.265      -0.091\n",
      "==============================================================================\n",
      "Omnibus:                      126.678   Durbin-Watson:                   2.457\n",
      "Prob(Omnibus):                  0.000   Jarque-Bera (JB):             3107.250\n",
      "Skew:                          -2.796   Prob(JB):                         0.00\n",
      "Kurtosis:                      25.059   Cond. No.                     5.00e+13\n",
      "==============================================================================\n",
      "\n",
      "Notes:\n",
      "[1] Standard Errors assume that the covariance matrix of the errors is correctly specified.\n",
      "[2] The condition number is large,  5e+13. This might indicate that there are\n",
      "strong multicollinearity or other numerical problems.\n"
     ]
    }
   ],
   "execution_count": 28
  },
  {
   "metadata": {},
   "cell_type": "code",
   "outputs": [],
   "execution_count": null,
   "source": "",
   "id": "e9d5a17935b7b427"
  }
 ],
 "metadata": {
  "kernelspec": {
   "display_name": "Python 3 (ipykernel)",
   "language": "python",
   "name": "python3"
  },
  "language_info": {
   "codemirror_mode": {
    "name": "ipython",
    "version": 3
   },
   "file_extension": ".py",
   "mimetype": "text/x-python",
   "name": "python",
   "nbconvert_exporter": "python",
   "pygments_lexer": "ipython3",
   "version": "3.13.1"
  }
 },
 "nbformat": 4,
 "nbformat_minor": 5
}
