{
 "cells": [
  {
   "metadata": {
    "ExecuteTime": {
     "end_time": "2025-08-11T15:00:47.720623Z",
     "start_time": "2025-08-11T15:00:45.621144Z"
    }
   },
   "cell_type": "code",
   "source": [
    "import pandas as pd\n",
    "import pandas_gbq\n",
    "from google.cloud import bigquery\n",
    "from typing import Any\n",
    "from google.oauth2 import service_account\n",
    "import logging\n"
   ],
   "id": "b4f48f26aa54daa5",
   "outputs": [],
   "execution_count": 1
  },
  {
   "metadata": {
    "ExecuteTime": {
     "end_time": "2025-08-11T15:00:47.746856Z",
     "start_time": "2025-08-11T15:00:47.739080Z"
    }
   },
   "cell_type": "code",
   "source": "credentials = service_account.Credentials.from_service_account_file(\"connection-123-892e002c2def.json\")",
   "id": "a30361c8090461b6",
   "outputs": [],
   "execution_count": 2
  },
  {
   "metadata": {
    "ExecuteTime": {
     "end_time": "2025-08-11T15:01:46.670363Z",
     "start_time": "2025-08-11T15:01:46.662617Z"
    }
   },
   "cell_type": "code",
   "source": [
    "\n",
    "destination_table = \"btc_rsi\"\n",
    "\n",
    "logger = logging.getLogger(__name__)\n",
    "\n",
    "def calculate_rsi(credentials) -> pd.DataFrame:\n",
    "    client = bigquery.Client(credentials=credentials, project=credentials.project_id)\n",
    "\n",
    "    query = \"\"\"\n",
    "    SELECT\n",
    "    timestamp,\n",
    "    price\n",
    "    FROM connection-123.signals.bitcoin_price\n",
    "    WHERE DATE(timestamp) < DATE(CURRENT_TIMESTAMP())\n",
    "\n",
    "    ORDER BY 1\n",
    "    \"\"\"\n",
    "    query_job = client.query(query)\n",
    "    results = query_job.result()\n",
    "    df = results.to_dataframe()\n",
    "\n",
    "    bytes_processed = query_job.total_bytes_processed\n",
    "    logger.info(f\"Query processed {bytes_processed:,} bytes ({bytes_processed / 1024 / 1024:.2f} MB)\")\n",
    "\n",
    "    # Calculate price changes\n",
    "    df['price_change'] = df['price'].diff()\n",
    "\n",
    "    # Separate gains and losses\n",
    "    df['gain'] = df['price_change'].where(df['price_change'] > 0, 0)\n",
    "    df['loss'] = (-df['price_change']).where(df['price_change'] < 0, 0)\n",
    "\n",
    "    # Calculate 14-period average gains and losses using exponential moving average\n",
    "    df['avg_gain'] = df['gain'].ewm(span=14, adjust=False).mean()\n",
    "    df['avg_loss'] = df['loss'].ewm(span=14, adjust=False).mean()\n",
    "\n",
    "    # Calculate RSI\n",
    "    df['rs'] = df['avg_gain'] / df['avg_loss']\n",
    "    df['rsi_14'] = 100 - (100 / (1 + df['rs']))\n",
    "\n",
    "    # Return timestamp and RSI\n",
    "    rsi_result = df[['timestamp', 'rsi_14']].copy()\n",
    "\n",
    "    return rsi_result\n"
   ],
   "id": "9ba81e7aa23f927d",
   "outputs": [],
   "execution_count": 6
  },
  {
   "metadata": {
    "ExecuteTime": {
     "end_time": "2025-08-11T15:01:50.249748Z",
     "start_time": "2025-08-11T15:01:47.801536Z"
    }
   },
   "cell_type": "code",
   "source": "data = calculate_rsi(credentials)",
   "id": "93fab9cd87d82477",
   "outputs": [],
   "execution_count": 7
  },
  {
   "metadata": {
    "ExecuteTime": {
     "end_time": "2025-08-11T15:01:51.054941Z",
     "start_time": "2025-08-11T15:01:51.048316Z"
    }
   },
   "cell_type": "code",
   "source": "print(data)",
   "id": "29ebe9c0a6d15ee9",
   "outputs": [
    {
     "name": "stdout",
     "output_type": "stream",
     "text": [
      "      timestamp     rsi_14\n",
      "0    2024-08-11        NaN\n",
      "1    2024-08-12   0.000000\n",
      "2    2024-08-13  23.212239\n",
      "3    2024-08-14  52.421453\n",
      "4    2024-08-15  31.708875\n",
      "..          ...        ...\n",
      "361  2025-08-07  46.127705\n",
      "362  2025-08-08  59.736348\n",
      "363  2025-08-09  54.676633\n",
      "364  2025-08-10  53.474564\n",
      "365  2025-08-10  64.522740\n",
      "\n",
      "[366 rows x 2 columns]\n"
     ]
    }
   ],
   "execution_count": 8
  },
  {
   "metadata": {},
   "cell_type": "code",
   "outputs": [],
   "execution_count": null,
   "source": "",
   "id": "5ba5ec543538e527"
  }
 ],
 "metadata": {
  "kernelspec": {
   "display_name": "Python 3 (ipykernel)",
   "language": "python",
   "name": "python3"
  },
  "language_info": {
   "codemirror_mode": {
    "name": "ipython",
    "version": 3
   },
   "file_extension": ".py",
   "mimetype": "text/x-python",
   "name": "python",
   "nbconvert_exporter": "python",
   "pygments_lexer": "ipython3",
   "version": "3.13.1"
  }
 },
 "nbformat": 4,
 "nbformat_minor": 5
}
