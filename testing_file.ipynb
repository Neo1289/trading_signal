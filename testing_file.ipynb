{
 "cells": [
  {
   "metadata": {
    "ExecuteTime": {
     "end_time": "2025-08-12T14:41:05.801200Z",
     "start_time": "2025-08-12T14:41:03.691034Z"
    }
   },
   "cell_type": "code",
   "source": [
    "import pandas as pd\n",
    "import pandas_gbq\n",
    "from google.cloud import bigquery\n",
    "from typing import Any\n",
    "from google.oauth2 import service_account\n",
    "import logging\n"
   ],
   "id": "b4f48f26aa54daa5",
   "outputs": [],
   "execution_count": 1
  },
  {
   "metadata": {
    "ExecuteTime": {
     "end_time": "2025-08-12T14:41:05.827887Z",
     "start_time": "2025-08-12T14:41:05.818995Z"
    }
   },
   "cell_type": "code",
   "source": "credentials = service_account.Credentials.from_service_account_file(\"connection-123-892e002c2def.json\")",
   "id": "a30361c8090461b6",
   "outputs": [],
   "execution_count": 2
  },
  {
   "metadata": {
    "ExecuteTime": {
     "end_time": "2025-08-12T14:41:28.008604Z",
     "start_time": "2025-08-12T14:41:28.002774Z"
    }
   },
   "cell_type": "code",
   "source": [
    "def calculate_bollinger_bands(credentials) -> pd.DataFrame:\n",
    "    client = bigquery.Client(credentials=credentials, project=credentials.project_id)\n",
    "\n",
    "    query = \"\"\"\n",
    "    SELECT\n",
    "        timestamp,\n",
    "        price\n",
    "    FROM\n",
    "        `connection-123.signals.bitcoin_price`\n",
    "    WHERE\n",
    "        DATE(timestamp) < DATE(CURRENT_TIMESTAMP())\n",
    "    ORDER BY\n",
    "        timestamp ASC\n",
    "    \"\"\"\n",
    "\n",
    "    query_job = client.query(query)\n",
    "    results = query_job.result()\n",
    "    df = results.to_dataframe()\n",
    "\n",
    "    # Calculate 20-period Simple Moving Average (Middle Band)\n",
    "    df['middle_band'] = df['price'].rolling(window=20).mean()\n",
    "\n",
    "    # Calculate 20-period Standard Deviation\n",
    "    df['std_dev'] = df['price'].rolling(window=20).std()\n",
    "\n",
    "    # Calculate Upper and Lower Bands (2 standard deviations)\n",
    "    df['upper_band'] = df['middle_band'] + (2 * df['std_dev'])\n",
    "    df['lower_band'] = df['middle_band'] - (2 * df['std_dev'])\n",
    "\n",
    "    # Calculate Bollinger Band Width (optional indicator)\n",
    "    df['bb_width'] = df['upper_band'] - df['lower_band']\n",
    "\n",
    "    # Calculate %B (position within bands, optional)\n",
    "    df['percent_b'] = (df['price'] - df['lower_band']) / (df['upper_band'] - df['lower_band'])\n",
    "\n",
    "    # Return Bollinger Bands components with timestamp\n",
    "    bollinger_result = df[['timestamp', 'price', 'middle_band', 'upper_band', 'lower_band', 'bb_width', 'percent_b']].copy()\n",
    "\n",
    "    return bollinger_result\n"
   ],
   "id": "9ba81e7aa23f927d",
   "outputs": [],
   "execution_count": 6
  },
  {
   "metadata": {
    "ExecuteTime": {
     "end_time": "2025-08-12T14:41:32.156327Z",
     "start_time": "2025-08-12T14:41:28.575111Z"
    }
   },
   "cell_type": "code",
   "source": "data = calculate_bollinger_bands(credentials)",
   "id": "93fab9cd87d82477",
   "outputs": [],
   "execution_count": 7
  },
  {
   "metadata": {
    "ExecuteTime": {
     "end_time": "2025-08-12T14:41:33.828207Z",
     "start_time": "2025-08-12T14:41:33.809047Z"
    }
   },
   "cell_type": "code",
   "source": "print(data)",
   "id": "29ebe9c0a6d15ee9",
   "outputs": [
    {
     "name": "stdout",
     "output_type": "stream",
     "text": [
      "      timestamp          price    middle_band     upper_band     lower_band  \\\n",
      "0    2024-08-12   58804.234500            NaN            NaN            NaN   \n",
      "1    2024-08-13   59350.074333            NaN            NaN            NaN   \n",
      "2    2024-08-14   60601.223178            NaN            NaN            NaN   \n",
      "3    2024-08-15   58739.193822            NaN            NaN            NaN   \n",
      "4    2024-08-16   57624.116929            NaN            NaN            NaN   \n",
      "..          ...            ...            ...            ...            ...   \n",
      "361  2025-08-08  117463.474511  116781.532529  120941.122803  112621.942255   \n",
      "362  2025-08-09  116688.366632  116720.869532  120846.932462  112594.806602   \n",
      "363  2025-08-10  116510.083932  116683.527688  120802.676016  112564.379360   \n",
      "364  2025-08-11  119266.925169  116772.750457  121039.426448  112506.074467   \n",
      "365  2025-08-11  120144.004708  116782.160907  121079.119344  112485.202471   \n",
      "\n",
      "        bb_width  percent_b  \n",
      "0            NaN        NaN  \n",
      "1            NaN        NaN  \n",
      "2            NaN        NaN  \n",
      "3            NaN        NaN  \n",
      "4            NaN        NaN  \n",
      "..           ...        ...  \n",
      "361  8319.180548   0.581972  \n",
      "362  8252.125860   0.496061  \n",
      "363  8238.296656   0.478947  \n",
      "364  8533.351981   0.792285  \n",
      "365  8593.916873   0.891189  \n",
      "\n",
      "[366 rows x 7 columns]\n"
     ]
    }
   ],
   "execution_count": 8
  },
  {
   "metadata": {},
   "cell_type": "code",
   "outputs": [],
   "execution_count": null,
   "source": "",
   "id": "5ba5ec543538e527"
  }
 ],
 "metadata": {
  "kernelspec": {
   "display_name": "Python 3 (ipykernel)",
   "language": "python",
   "name": "python3"
  },
  "language_info": {
   "codemirror_mode": {
    "name": "ipython",
    "version": 3
   },
   "file_extension": ".py",
   "mimetype": "text/x-python",
   "name": "python",
   "nbconvert_exporter": "python",
   "pygments_lexer": "ipython3",
   "version": "3.13.1"
  }
 },
 "nbformat": 4,
 "nbformat_minor": 5
}
