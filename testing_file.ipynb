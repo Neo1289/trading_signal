{
 "cells": [
  {
   "metadata": {
    "ExecuteTime": {
     "end_time": "2025-08-28T14:30:51.514736Z",
     "start_time": "2025-08-28T14:30:49.636887Z"
    }
   },
   "cell_type": "code",
   "source": [
    "import pandas as pd\n",
    "import requests\n",
    "from google.oauth2 import service_account\n"
   ],
   "id": "b4f48f26aa54daa5",
   "outputs": [],
   "execution_count": 2
  },
  {
   "metadata": {
    "ExecuteTime": {
     "end_time": "2025-08-28T14:30:52.428569Z",
     "start_time": "2025-08-28T14:30:52.405558Z"
    }
   },
   "cell_type": "code",
   "source": "credentials = service_account.Credentials.from_service_account_file(\"connection-123-892e002c2def.json\")",
   "id": "a30361c8090461b6",
   "outputs": [],
   "execution_count": 3
  },
  {
   "metadata": {
    "ExecuteTime": {
     "end_time": "2025-08-28T14:32:05.673453Z",
     "start_time": "2025-08-28T14:32:05.665541Z"
    }
   },
   "cell_type": "code",
   "source": [
    "\n",
    "def fetch_eth_price() -> pd.DataFrame:\n",
    "    url = 'https://api.coingecko.com/api/v3/coins/tether/market_chart'\n",
    "    params = {\n",
    "        'vs_currency': 'usd',\n",
    "        'days': '365',\n",
    "        'interval': 'daily'\n",
    "    }\n",
    "    response = requests.get(url, params=params)\n",
    "    response.raise_for_status()\n",
    "    data = response.json()\n",
    "\n",
    "    # Extract prices, market caps, and total volumes\n",
    "    market_caps = data['market_caps']\n",
    "    total_volumes = data['total_volumes']\n",
    "\n",
    "    # Create DataFrames for each metric\n",
    "    df_market_caps = pd.DataFrame(market_caps, columns=['timestamp', 'market_cap'])\n",
    "    df_volumes = pd.DataFrame(total_volumes, columns=['timestamp', 'total_volume'])\n",
    "\n",
    "    # Merge all data on timestamp\n",
    "    df = df_market_caps.merge(df_volumes, on='timestamp')\n",
    "\n",
    "    # Parse timestamps in UTC, normalize to midnight, then shift back one day\n",
    "    ts_utc = pd.to_datetime(df['timestamp'], unit='ms', utc=True)\n",
    "    dates_utc = ts_utc.dt.normalize() - pd.Timedelta(days=1)\n",
    "\n",
    "    # Use the shifted date as the label for the \"closing\" day\n",
    "    df['date'] = dates_utc.dt.date\n",
    "    df = df.drop(columns=['timestamp']).sort_values('date').reset_index(drop=True)\n",
    "\n",
    "    # Ensure one row per date (in case of any duplicates)\n",
    "    df = df.groupby('date', as_index=False).last()\n",
    "    df = df.rename(columns={'date': 'timestamp'})\n",
    "\n",
    "    return df\n",
    "\n"
   ],
   "id": "f20dd259f6b635e4",
   "outputs": [],
   "execution_count": 6
  },
  {
   "metadata": {
    "ExecuteTime": {
     "end_time": "2025-08-28T14:32:07.346367Z",
     "start_time": "2025-08-28T14:32:06.988380Z"
    }
   },
   "cell_type": "code",
   "source": "data = fetch_eth_price()",
   "id": "44be76e953751353",
   "outputs": [],
   "execution_count": 7
  },
  {
   "metadata": {
    "ExecuteTime": {
     "end_time": "2025-08-28T14:32:10.957187Z",
     "start_time": "2025-08-28T14:32:10.925519Z"
    }
   },
   "cell_type": "code",
   "source": "data.head()",
   "id": "f0c72dbe613f284b",
   "outputs": [
    {
     "data": {
      "text/plain": [
       "    timestamp    market_cap  total_volume\n",
       "0  2024-08-28  1.181357e+11  4.605388e+10\n",
       "1  2024-08-29  1.181729e+11  4.701164e+10\n",
       "2  2024-08-30  1.182220e+11  4.881389e+10\n",
       "3  2024-08-31  1.182304e+11  2.076913e+10\n",
       "4  2024-09-01  1.182957e+11  2.948821e+10"
      ],
      "text/html": [
       "<div>\n",
       "<style scoped>\n",
       "    .dataframe tbody tr th:only-of-type {\n",
       "        vertical-align: middle;\n",
       "    }\n",
       "\n",
       "    .dataframe tbody tr th {\n",
       "        vertical-align: top;\n",
       "    }\n",
       "\n",
       "    .dataframe thead th {\n",
       "        text-align: right;\n",
       "    }\n",
       "</style>\n",
       "<table border=\"1\" class=\"dataframe\">\n",
       "  <thead>\n",
       "    <tr style=\"text-align: right;\">\n",
       "      <th></th>\n",
       "      <th>timestamp</th>\n",
       "      <th>market_cap</th>\n",
       "      <th>total_volume</th>\n",
       "    </tr>\n",
       "  </thead>\n",
       "  <tbody>\n",
       "    <tr>\n",
       "      <th>0</th>\n",
       "      <td>2024-08-28</td>\n",
       "      <td>1.181357e+11</td>\n",
       "      <td>4.605388e+10</td>\n",
       "    </tr>\n",
       "    <tr>\n",
       "      <th>1</th>\n",
       "      <td>2024-08-29</td>\n",
       "      <td>1.181729e+11</td>\n",
       "      <td>4.701164e+10</td>\n",
       "    </tr>\n",
       "    <tr>\n",
       "      <th>2</th>\n",
       "      <td>2024-08-30</td>\n",
       "      <td>1.182220e+11</td>\n",
       "      <td>4.881389e+10</td>\n",
       "    </tr>\n",
       "    <tr>\n",
       "      <th>3</th>\n",
       "      <td>2024-08-31</td>\n",
       "      <td>1.182304e+11</td>\n",
       "      <td>2.076913e+10</td>\n",
       "    </tr>\n",
       "    <tr>\n",
       "      <th>4</th>\n",
       "      <td>2024-09-01</td>\n",
       "      <td>1.182957e+11</td>\n",
       "      <td>2.948821e+10</td>\n",
       "    </tr>\n",
       "  </tbody>\n",
       "</table>\n",
       "</div>"
      ]
     },
     "execution_count": 8,
     "metadata": {},
     "output_type": "execute_result"
    }
   ],
   "execution_count": 8
  },
  {
   "metadata": {},
   "cell_type": "code",
   "outputs": [],
   "execution_count": null,
   "source": "",
   "id": "dc941bdd61bbb2cc"
  }
 ],
 "metadata": {
  "kernelspec": {
   "display_name": "Python 3 (ipykernel)",
   "language": "python",
   "name": "python3"
  },
  "language_info": {
   "codemirror_mode": {
    "name": "ipython",
    "version": 3
   },
   "file_extension": ".py",
   "mimetype": "text/x-python",
   "name": "python",
   "nbconvert_exporter": "python",
   "pygments_lexer": "ipython3",
   "version": "3.13.1"
  }
 },
 "nbformat": 4,
 "nbformat_minor": 5
}
