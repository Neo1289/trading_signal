{
 "cells": [
  {
   "metadata": {
    "ExecuteTime": {
     "end_time": "2025-09-17T13:21:41.357187Z",
     "start_time": "2025-09-17T13:21:39.040577Z"
    }
   },
   "cell_type": "code",
   "source": [
    "import numpy as np\n",
    "import pandas as pd\n",
    "from google.cloud import bigquery\n",
    "from google.oauth2 import service_account\n",
    "import statsmodels.api as sm\n",
    "import requests\n",
    "from datetime import datetime"
   ],
   "id": "f2eb35a85ba5527b",
   "outputs": [],
   "execution_count": 1
  },
  {
   "metadata": {
    "ExecuteTime": {
     "end_time": "2025-09-17T13:21:42.164329Z",
     "start_time": "2025-09-17T13:21:42.160649Z"
    }
   },
   "cell_type": "code",
   "source": [
    "######## test the api endpoint\n",
    "#########get the MVRV data\n",
    "######### build the script\n",
    "######### incorporate in the streamilit app"
   ],
   "id": "a8ecdc6ac17377bc",
   "outputs": [],
   "execution_count": 2
  },
  {
   "metadata": {
    "ExecuteTime": {
     "end_time": "2025-09-17T13:23:18.420740Z",
     "start_time": "2025-09-17T13:23:18.415503Z"
    }
   },
   "cell_type": "code",
   "source": [
    "def fetch_mvrv() -> pd.DataFrame:\n",
    "    url = \"https://community-api.coinmetrics.io/v4/timeseries/asset-metrics\"\n",
    "\n",
    "    params = {\n",
    "    'assets': 'btc',\n",
    "    'metrics': 'CapMVRVCur',\n",
    "    'start_time': '2020-01-01',\n",
    "    'end_time': datetime.now().strftime('%Y-%m-%d'),\n",
    "    'frequency': '1d'\n",
    "}\n",
    "    response = requests.get(url, params=params)\n",
    "    response.raise_for_status()\n",
    "    data = response.json()\n",
    "\n",
    "    df = pd.DataFrame([\n",
    "        {\n",
    "            'time': point['time'],\n",
    "            'mvrv': float(point['CapMVRVCur'])\n",
    "        }\n",
    "        for point in data['data']\n",
    "    ])\n",
    "\n",
    "    df['time'] = pd.to_datetime(df['time']).dt.date\n",
    "\n",
    "    return df\n"
   ],
   "id": "614938ee04e85973",
   "outputs": [],
   "execution_count": 10
  },
  {
   "metadata": {
    "ExecuteTime": {
     "end_time": "2025-09-17T13:23:19.331239Z",
     "start_time": "2025-09-17T13:23:19.142974Z"
    }
   },
   "cell_type": "code",
   "source": "test = fetch_mvrv()",
   "id": "17b74d72d361bcac",
   "outputs": [],
   "execution_count": 11
  },
  {
   "metadata": {
    "ExecuteTime": {
     "end_time": "2025-09-17T13:24:41.565913Z",
     "start_time": "2025-09-17T13:24:41.563350Z"
    }
   },
   "cell_type": "code",
   "source": "",
   "id": "5770af575f92c663",
   "outputs": [],
   "execution_count": null
  },
  {
   "metadata": {},
   "cell_type": "code",
   "outputs": [],
   "execution_count": null,
   "source": "",
   "id": "e5ffd122db8534a7"
  }
 ],
 "metadata": {
  "kernelspec": {
   "display_name": "Python 3 (ipykernel)",
   "language": "python",
   "name": "python3"
  },
  "language_info": {
   "codemirror_mode": {
    "name": "ipython",
    "version": 3
   },
   "file_extension": ".py",
   "mimetype": "text/x-python",
   "name": "python",
   "nbconvert_exporter": "python",
   "pygments_lexer": "ipython3",
   "version": "3.13.1"
  }
 },
 "nbformat": 4,
 "nbformat_minor": 5
}
